{
 "cells": [
  {
   "cell_type": "code",
   "execution_count": null,
   "metadata": {},
   "outputs": [],
   "source": [
    "%pip install --upgrade pytube\n"
   ]
  },
  {
   "cell_type": "code",
   "execution_count": null,
   "metadata": {},
   "outputs": [],
   "source": [
    "from pytubefix import YouTube\n",
    "from pytubefix.cli import on_progress\n",
    "\n",
    "url = \"https://www.youtube.com/watch?v=YoYMIx7J2Gs\"\n",
    "yt = YouTube(url,  on_progress_callback = on_progress)\n",
    "           \n",
    "ys = yt.streams.get_highest_resolution()\n",
    "\n",
    "ys.download() # you will only get the request to authenticate once you download"
   ]
  },
  {
   "cell_type": "code",
   "execution_count": null,
   "metadata": {},
   "outputs": [],
   "source": [
    "%pip install rich"
   ]
  },
  {
   "cell_type": "code",
   "execution_count": null,
   "metadata": {},
   "outputs": [],
   "source": [
    "import requests\n",
    "from rich import print\n",
    "\n",
    "# Define the API URL and the YouTube URL\n",
    "api_url = \"http://localhost:8000/transcribe\"\n",
    "youtube_url = \"https://www.youtube.com/watch?v=YoYMIx7J2Gs\"\n",
    "\n",
    "# Create the payload with the YouTube URL\n",
    "payload = {\n",
    "    'youtube_url': youtube_url\n",
    "}\n",
    "\n",
    "# Send the POST request\n",
    "response = requests.post(api_url, params=payload)\n",
    "\n",
    "# Check if the request was successful\n",
    "if response.status_code == 200:\n",
    "    transcription_result = response.json()\n",
    "    print(\"Transcription Result:\", transcription_result['segments'][0]['text'])\n",
    "else:\n",
    "    print(f\"Error: {response.status_code}\")\n",
    "    print(response.text)"
   ]
  },
  {
   "cell_type": "code",
   "execution_count": null,
   "metadata": {},
   "outputs": [],
   "source": [
    "import requests\n",
    "from rich import print\n",
    "\n",
    "# Define the API URL\n",
    "api_url = \"http://localhost:8000/transcribe\"  # Adjust this to your deployed FastAPI endpoint\n",
    "\n",
    "# Define the file to upload\n",
    "file_path = \"John _Shrek_ McPhee - The Sheriff of Baghdad _ SRS #133.mp3\"  # Replace with the actual file path\n",
    "\n",
    "# Open the file in binary mode for uploading\n",
    "with open(file_path, \"rb\") as f:\n",
    "    files = {'file': f}\n",
    "\n",
    "    # Send the POST request with the file\n",
    "    response = requests.post(api_url, files=files)\n",
    "\n",
    "# Check if the request was successful\n",
    "if response.status_code == 200:\n",
    "    transcription_result = response.json()\n",
    "    print(\"Transcription Result:\", transcription_result)\n",
    "else:\n",
    "    print(f\"Error: {response.status_code}\")\n",
    "    print(response.text)\n"
   ]
  },
  {
   "cell_type": "code",
   "execution_count": 3,
   "metadata": {},
   "outputs": [],
   "source": [
    "# WRITE RESPONSE.TEXT TO A JSON FILE\n",
    "\n",
    "\n",
    "import json\n",
    "\n",
    "# Define the file path for the JSON file\n",
    "json_file_path = \"transcription_result.json\"\n",
    "\n",
    "# Write the response text to the JSON file\n",
    "\n",
    "with open(json_file_path, \"w\") as json_file:\n",
    "\n",
    "    json.dump(response.text, json_file)\n",
    "    "
   ]
  },
  {
   "cell_type": "code",
   "execution_count": null,
   "metadata": {},
   "outputs": [],
   "source": [
    "import requests\n",
    "from rich import print\n",
    "\n",
    "# Base URL of the Thumbnail Creation Service API\n",
    "BASE_URL = \"http://localhost:8001\"\n",
    "\n",
    "# Endpoint to generate a thumbnail\n",
    "GENERATE_THUMBNAIL_ENDPOINT = \"/generate-thumbnail/\"\n",
    "\n",
    "# Example function to call the generate-thumbnail API\n",
    "def create_thumbnail(description: str):\n",
    "    url = f\"{BASE_URL}{GENERATE_THUMBNAIL_ENDPOINT}\"\n",
    "    headers = {\"Content-Type\": \"application/json\"}\n",
    "    payload = {\"description\": description}\n",
    "\n",
    "    try:\n",
    "        # Make the POST request to the API\n",
    "        response = requests.post(url, json=payload, headers=headers)\n",
    "        \n",
    "        # Raise an exception if the request was not successful\n",
    "        response.raise_for_status()\n",
    "\n",
    "        # Parse the response if successful\n",
    "        if response.status_code == 200:\n",
    "            data = response.json()\n",
    "            print(\"Thumbnail created successfully:\")\n",
    "            print(data)\n",
    "            return data\n",
    "        else:\n",
    "            print(f\"Unexpected response code: {response.status_code}\")\n",
    "    except requests.exceptions.RequestException as e:\n",
    "        # Handle errors in the request\n",
    "        print(f\"An error occurred while generating the thumbnail: {e}\")\n",
    "\n",
    "\n",
    "\n",
    "# Example usage\n",
    "if __name__ == \"__main__\":\n",
    "\n",
    "    # Generate a thumbnail\n",
    "    description = \"Christmas Eve at the North Pole, Santa's Workshop\"\n",
    "    data = create_thumbnail(description)"
   ]
  },
  {
   "cell_type": "code",
   "execution_count": null,
   "metadata": {},
   "outputs": [],
   "source": [
    "description = \"A hot wheels ultimate garage with a dinosaur that trys and eat the cars as they race through the track\"\n",
    "data = create_thumbnail(description)"
   ]
  }
 ],
 "metadata": {
  "kernelspec": {
   "display_name": ".venv",
   "language": "python",
   "name": "python3"
  },
  "language_info": {
   "codemirror_mode": {
    "name": "ipython",
    "version": 3
   },
   "file_extension": ".py",
   "mimetype": "text/x-python",
   "name": "python",
   "nbconvert_exporter": "python",
   "pygments_lexer": "ipython3",
   "version": "3.12.3"
  }
 },
 "nbformat": 4,
 "nbformat_minor": 2
}
